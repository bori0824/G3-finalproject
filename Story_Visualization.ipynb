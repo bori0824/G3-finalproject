{
  "nbformat": 4,
  "nbformat_minor": 0,
  "metadata": {
    "colab": {
      "provenance": [],
      "authorship_tag": "ABX9TyPtOpbrOhGj6afbuBiDZLi0",
      "include_colab_link": true
    },
    "kernelspec": {
      "name": "python3",
      "display_name": "Python 3"
    },
    "language_info": {
      "name": "python"
    }
  },
  "cells": [
    {
      "cell_type": "markdown",
      "metadata": {
        "id": "view-in-github",
        "colab_type": "text"
      },
      "source": [
        "<a href=\"https://colab.research.google.com/github/bori0824/G3-finalproject/blob/main/Story_Visualization.ipynb\" target=\"_parent\"><img src=\"https://colab.research.google.com/assets/colab-badge.svg\" alt=\"Open In Colab\"/></a>"
      ]
    },
    {
      "cell_type": "code",
      "source": [
        "# !pip install matplotlib gradio"
      ],
      "metadata": {
        "id": "65iQc-p6Z_4m"
      },
      "execution_count": 9,
      "outputs": []
    },
    {
      "cell_type": "code",
      "source": [
        "# import matplotlib.pyplot as plt\n",
        "# import gradio as gr"
      ],
      "metadata": {
        "id": "WfXSjl51adx0"
      },
      "execution_count": 11,
      "outputs": []
    },
    {
      "cell_type": "code",
      "source": [
        "def visualize_scene(scene):\n",
        "    # Dictionary mapping scenes to corresponding descriptions or elements\n",
        "    scenes = {\n",
        "        \"Tom planting the magic seeds\": \"Tom planting seeds in the garden\",\n",
        "        \"Magic seeds sprouting quickly\": \"Seeds sprouting quickly in the soil\",\n",
        "        \"Tall, lush vegetables and flowers\": \"Garden transformed with tall vegetables and beautiful flowers\",\n",
        "        \"Tom becoming a peddler\": \"Tom traveling to sell magic seeds\"\n",
        "    }\n",
        "\n",
        "    # Check if input scene is in the dictionary\n",
        "    if scene in scenes:\n",
        "        # Plotting the scene\n",
        "        plt.figure(figsize=(8, 6))\n",
        "        plt.title(scene)\n",
        "        plt.text(0.5, 0.5, scenes[scene], ha='center', va='center', fontsize=14)\n",
        "        plt.axis('off')\n",
        "        plt.show()\n",
        "    else:\n",
        "        print(\"Scene not found. Please enter a valid scene from the story.\")"
      ],
      "metadata": {
        "id": "isicBi4lajOW"
      },
      "execution_count": 18,
      "outputs": []
    },
    {
      "cell_type": "code",
      "source": [
        "iface = gr.Interface(\n",
        "    fn=visualize_scene,\n",
        "    inputs=gr.inputs.Textbox(lines=1, placeholder=\"Enter scene from the story\"),\n",
        "outputs=[\"plot\"],\n",
        "    title=\"Story Visualization\",\n",
        "    description=\"Enter a scene from the story 'The Magic Seeds' to visualize.\","
      ],
      "metadata": {
        "colab": {
          "base_uri": "https://localhost:8080/",
          "height": 111
        },
        "id": "h_h1mqcJaqoH",
        "outputId": "69595cd1-745e-4183-c8df-d5be01155fe2"
      },
      "execution_count": 20,
      "outputs": [
        {
          "output_type": "error",
          "ename": "SyntaxError",
          "evalue": "incomplete input (<ipython-input-20-0ba5319b11fb>, line 6)",
          "traceback": [
            "\u001b[0;36m  File \u001b[0;32m\"<ipython-input-20-0ba5319b11fb>\"\u001b[0;36m, line \u001b[0;32m6\u001b[0m\n\u001b[0;31m    description=\"Enter a scene from the story 'The Magic Seeds' to visualize.\",\u001b[0m\n\u001b[0m                                                                               ^\u001b[0m\n\u001b[0;31mSyntaxError\u001b[0m\u001b[0;31m:\u001b[0m incomplete input\n"
          ]
        }
      ]
    },
    {
      "cell_type": "code",
      "source": [
        "# Step 1: Install required libraries\n",
        "# pip install matplotlib gradio\n",
        "\n",
        "# Step 2: Import necessary libraries\n",
        "import matplotlib.pyplot as plt\n",
        "import gradio as gr\n",
        "\n",
        "# Step 3: Define the function to visualize scenes or elements from the story\n",
        "def visualize_scene(scene):\n",
        "    # Dictionary mapping scenes to corresponding descriptions or elements\n",
        "    scenes = {\n",
        "        \"Tom planting the magic seeds\": \"Tom planting seeds in the garden\",\n",
        "        \"Magic seeds sprouting quickly\": \"Seeds sprouting quickly in the soil\",\n",
        "        \"Tall, lush vegetables and flowers\": \"Garden transformed with tall vegetables and beautiful flowers\",\n",
        "        \"Tom becoming a peddler\": \"Tom traveling to sell magic seeds\"\n",
        "    }\n",
        "\n",
        "    # Check if input scene is in the dictionary\n",
        "    if scene in scenes:\n",
        "        # Plotting the scene\n",
        "        plt.figure(figsize=(8, 6))\n",
        "        plt.title(scene)\n",
        "        plt.text(0.5, 0.5, scenes[scene], ha='center', va='center', fontsize=14)\n",
        "        plt.axis('off')\n",
        "        plt.show()\n",
        "    else:\n",
        "        print(\"Scene not found. Please enter a valid scene from the story.\")\n",
        "\n",
        "# Step 4: Define Gradio interface for user input\n",
        "iface = gr.Interface(\n",
        "    fn=visualize_scene,\n",
        "    inputs=gr.inputs.Textbox(lines=1, placeholder=\"Enter scene from the story\"),\n",
        "    outputs=\"plot\",\n",
        "    title=\"Story Visualization\",\n",
        "    description=\"Enter a scene from the story 'The Magic Seeds' to visualize.\"\n",
        ")\n",
        "\n",
        "# Step 5: Launch Gradio interface\n",
        "iface.launch()\n"
      ],
      "metadata": {
        "colab": {
          "base_uri": "https://localhost:8080/",
          "height": 405
        },
        "id": "aFTF3srtZ5M7",
        "outputId": "fc12fae7-da39-4ee8-86d4-55f38c426080"
      },
      "execution_count": 10,
      "outputs": [
        {
          "output_type": "error",
          "ename": "ModuleNotFoundError",
          "evalue": "No module named 'gradio'",
          "traceback": [
            "\u001b[0;31m---------------------------------------------------------------------------\u001b[0m",
            "\u001b[0;31mModuleNotFoundError\u001b[0m                       Traceback (most recent call last)",
            "\u001b[0;32m<ipython-input-10-7af6007353c7>\u001b[0m in \u001b[0;36m<cell line: 6>\u001b[0;34m()\u001b[0m\n\u001b[1;32m      4\u001b[0m \u001b[0;31m# Step 2: Import necessary libraries\u001b[0m\u001b[0;34m\u001b[0m\u001b[0;34m\u001b[0m\u001b[0m\n\u001b[1;32m      5\u001b[0m \u001b[0;32mimport\u001b[0m \u001b[0mmatplotlib\u001b[0m\u001b[0;34m.\u001b[0m\u001b[0mpyplot\u001b[0m \u001b[0;32mas\u001b[0m \u001b[0mplt\u001b[0m\u001b[0;34m\u001b[0m\u001b[0;34m\u001b[0m\u001b[0m\n\u001b[0;32m----> 6\u001b[0;31m \u001b[0;32mimport\u001b[0m \u001b[0mgradio\u001b[0m \u001b[0;32mas\u001b[0m \u001b[0mgr\u001b[0m\u001b[0;34m\u001b[0m\u001b[0;34m\u001b[0m\u001b[0m\n\u001b[0m\u001b[1;32m      7\u001b[0m \u001b[0;34m\u001b[0m\u001b[0m\n\u001b[1;32m      8\u001b[0m \u001b[0;31m# Step 3: Define the function to visualize scenes or elements from the story\u001b[0m\u001b[0;34m\u001b[0m\u001b[0;34m\u001b[0m\u001b[0m\n",
            "\u001b[0;31mModuleNotFoundError\u001b[0m: No module named 'gradio'",
            "",
            "\u001b[0;31m---------------------------------------------------------------------------\u001b[0;32m\nNOTE: If your import is failing due to a missing package, you can\nmanually install dependencies using either !pip or !apt.\n\nTo view examples of installing some common dependencies, click the\n\"Open Examples\" button below.\n\u001b[0;31m---------------------------------------------------------------------------\u001b[0m\n"
          ],
          "errorDetails": {
            "actions": [
              {
                "action": "open_url",
                "actionText": "Open Examples",
                "url": "/notebooks/snippets/importing_libraries.ipynb"
              }
            ]
          }
        }
      ]
    }
  ]
}